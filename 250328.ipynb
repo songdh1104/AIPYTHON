{
  "nbformat": 4,
  "nbformat_minor": 0,
  "metadata": {
    "colab": {
      "provenance": [],
      "authorship_tag": "ABX9TyOYDkIGchDKELvHJQC0f5wj",
      "include_colab_link": true
    },
    "kernelspec": {
      "name": "python3",
      "display_name": "Python 3"
    },
    "language_info": {
      "name": "python"
    }
  },
  "cells": [
    {
      "cell_type": "markdown",
      "metadata": {
        "id": "view-in-github",
        "colab_type": "text"
      },
      "source": [
        "<a href=\"https://colab.research.google.com/github/songdh1104/AIPYTHON/blob/main/250328.ipynb\" target=\"_parent\"><img src=\"https://colab.research.google.com/assets/colab-badge.svg\" alt=\"Open In Colab\"/></a>"
      ]
    },
    {
      "cell_type": "code",
      "execution_count": 2,
      "metadata": {
        "colab": {
          "base_uri": "https://localhost:8080/"
        },
        "id": "55R69EOxSIny",
        "outputId": "d8c9bcdd-67ce-41c4-8da5-fbdc4dced0f8"
      },
      "outputs": [
        {
          "output_type": "stream",
          "name": "stdout",
          "text": [
            "첫 번째 정수를 입력하세요: 4\n",
            "두 번째 정수를 입력하세요: 6\n",
            "4은(는) 6보다 작습니다.\n"
          ]
        }
      ],
      "source": [
        "# 문제 3: 두 수 비교하기\n",
        "num1_str = input(\"첫 번째 정수를 입력하세요: \")\n",
        "num2_str = input(\"두 번째 정수를 입력하세요: \")\n",
        "try:\n",
        "    num1 = int(num1_str)\n",
        "    num2 = int(num2_str)\n",
        "    if num1 > num2:\n",
        "        print(f\"{num1}은(는) {num2}보다 큽니다.\")\n",
        "    elif num1 < num2:\n",
        "        print(f\"{num1}은(는) {num2}보다 작습니다.\")\n",
        "    else:\n",
        "        print(f\"{num1}과(와) {num2}은(는) 같습니다.\")\n",
        "except ValueError:\n",
        "    print(\"유효한 정수를 입력하세요.\")"
      ]
    },
    {
      "cell_type": "code",
      "source": [
        "# 문제 3: 두 수 비교하기\n",
        "num1_str = input(\"첫 번째 정수를 입력하세요: \")\n",
        "num2_str = input(\"두 번째 정수를 입력하세요: \")\n",
        "\n",
        "num1 = int(num1_str)\n",
        "num2 = int(num2_str)\n",
        "if num1 > num2:\n",
        "    print(f\"{num1}은(는) {num2}보다 큽니다.\")\n",
        "elif num1 < num2: # Corrected indentation for elif block\n",
        "    print(f\"{num1}은(는) {num2}보다 작습니다.\")\n",
        "else: # Corrected indentation for else block\n",
        "    print(f\"{num1}과(와) {num2}은(는) 같습니다.\")\n"
      ],
      "metadata": {
        "colab": {
          "base_uri": "https://localhost:8080/"
        },
        "id": "2z52_FxrVDKa",
        "outputId": "e2e3495d-feb3-441c-d803-9dd15598bfc1"
      },
      "execution_count": 7,
      "outputs": [
        {
          "output_type": "stream",
          "name": "stdout",
          "text": [
            "첫 번째 정수를 입력하세요: 5\n",
            "두 번째 정수를 입력하세요: 36\n",
            "5은(는) 36보다 작습니다.\n"
          ]
        }
      ]
    },
    {
      "cell_type": "code",
      "source": [
        "# 문제: 세 수 중 가장 큰 수 찾기\n",
        "\n",
        "try:\n",
        "    num1= int(input(\"첫 번째 정수를 입력하세요: \"))\n",
        "    print(f\"첫 번째 수: {num1}\")\n",
        "\n",
        "    num2= int(input(\"두 번째 정수를 입력하세요: \"))\n",
        "    print(f\"두 번째 수: {num2}\")\n",
        "\n",
        "    num3= int(input(\"세 번째 정수를 입력하세요: \"))\n",
        "    print(f\"세 번째 수: {num3}\")\n",
        "\n",
        "    max_num = num1 # 처음에는 num1이 가장 크다고 가정\n",
        "\n",
        "    if num2 > max_num:\n",
        "        print(f\"두 번째 수 {num2}가 현재 최대값 {max_num}보다 큽니다. 최대값을 업데이트합니다.\")\n",
        "        max_num = num2\n",
        "    else:\n",
        "        print(f\"두 번째 수 {num2}는 현재 최대값 {max_num}보다 크지 않습니다.\")\n",
        "\n",
        "    if num3 > max_num:\n",
        "        print(f\"세 번째 수 {num3}가 현재 최대값 {max_num}보다 큽니다. 최대값을 업데이트합니다.\")\n",
        "        max_num = num3\n",
        "    else:\n",
        "        print(f\"세 번째 수 {num3}는 현재 최대값 {max_num}보다 크지 않습니다.\")\n",
        "    print(f\"]입력하신 세 수 {num1}, {num2}, {num3} 중에서 가장 큰 수는 {max_num}입니다.\")\n",
        "except ValueError:\n",
        "    print(\"유효한 정수를 입력해주세요.\")\n"
      ],
      "metadata": {
        "colab": {
          "base_uri": "https://localhost:8080/"
        },
        "id": "2fC3e5RQXhMN",
        "outputId": "985c8c1b-6bd5-4f9c-d6d4-a211ec5d277d"
      },
      "execution_count": 19,
      "outputs": [
        {
          "output_type": "stream",
          "name": "stdout",
          "text": [
            "첫 번째 정수를 입력하세요: 6\n",
            "첫 번째 수: 6\n",
            "두 번째 정수를 입력하세요: 5\n",
            "두 번째 수: 5\n",
            "세 번째 정수를 입력하세요: 4\n",
            "세 번째 수: 4\n",
            "두 번째 수 5는 현재 최대값 6보다 크지 않습니다.\n",
            "세 번째 수 4는 현재 최대값 6보다 크지 않습니다.\n",
            "]입력하신 세 수 6, 5, 4 중에서 가장 큰 수는 6입니다.\n"
          ]
        }
      ]
    },
    {
      "cell_type": "code",
      "source": [
        "#학점판별\n",
        "score= float(input(\"점수(0~100)\"))\n",
        "try:\n",
        "  if 0 <= score <= 100:\n",
        "\n",
        "    if score >= 90:\n",
        "      print(\"A\")\n",
        "    elif score >= 80:\n",
        "        print(\"B\")\n",
        "    elif score >= 70:\n",
        "      print(\"C\")\n",
        "    else:\n",
        "      print(\"F\")\n",
        "  else:\n",
        "        print(\"숫자 입력이 올바르지 않음.\")\n",
        "\n",
        "except ValueError:\n",
        "      print(\"올바른 점수를 입력하세요\")\n",
        ""
      ],
      "metadata": {
        "colab": {
          "base_uri": "https://localhost:8080/"
        },
        "id": "zkZu2_0EbZuV",
        "outputId": "b6639401-7d19-496d-d58b-8ff3f4671969"
      },
      "execution_count": 36,
      "outputs": [
        {
          "output_type": "stream",
          "name": "stdout",
          "text": [
            "점수(0~100)491365\n",
            "숫자 입력이 올바르지 않음.\n"
          ]
        }
      ]
    },
    {
      "cell_type": "code",
      "source": [
        "#윤년 판별\n",
        "year= int(input(\"연도 입력\"))\n",
        "try:\n",
        "    if (year % 4 == 0 and year % 100 != 0) or (year % 400 == 0):\n",
        "        print(f\"{year}년은 윤년.\")\n",
        "    else:\n",
        "        print(f\"{year}년은 평년.\")\n",
        "except ValueError:\n",
        "    print(\"유효한 정수를 입력.\")\n"
      ],
      "metadata": {
        "colab": {
          "base_uri": "https://localhost:8080/"
        },
        "id": "TPAac2L4c9tO",
        "outputId": "4344fbe3-ac6f-4fc3-808d-bcbeb948511a"
      },
      "execution_count": 29,
      "outputs": [
        {
          "output_type": "stream",
          "name": "stdout",
          "text": [
            "연도 입력5496\n",
            "5496년은 윤년.\n"
          ]
        }
      ]
    },
    {
      "cell_type": "code",
      "source": [
        "for i in range(1, 6): # 0~4까지 반복\n",
        " print(\"반복!\", i)"
      ],
      "metadata": {
        "colab": {
          "base_uri": "https://localhost:8080/"
        },
        "id": "vuSZNxZkg2aR",
        "outputId": "b2f7ec95-dc43-4885-ef92-8771c2fd37c8"
      },
      "execution_count": 42,
      "outputs": [
        {
          "output_type": "stream",
          "name": "stdout",
          "text": [
            "반복! 1\n",
            "반복! 2\n",
            "반복! 3\n",
            "반복! 4\n",
            "반복! 5\n"
          ]
        }
      ]
    },
    {
      "cell_type": "code",
      "source": [
        "# 1부터 N까지의 합 계산하기\n",
        "n = int(input('숫자 입력 : '))\n",
        "\n",
        "try:\n",
        "  if n <= 0:\n",
        "    print('숫자는 양의 정수이어야 함.')\n",
        "\n",
        "  else:\n",
        "    total =0\n",
        "\n",
        "  for i in range(1, n+1):\n",
        "    total+= i\n",
        "\n",
        "    print(f\" 숫자 {n}까지의 합은 {total}임.\")\n",
        "\n",
        "\n",
        "except ValueError:\n",
        "  print(\"유효한 정수를 입력할 것.\")"
      ],
      "metadata": {
        "colab": {
          "base_uri": "https://localhost:8080/"
        },
        "id": "5a2KcXAnktUB",
        "outputId": "24330037-17cb-4b75-f80f-27a549d4bac2"
      },
      "execution_count": 52,
      "outputs": [
        {
          "output_type": "stream",
          "name": "stdout",
          "text": [
            "숫자 입력 : 10\n",
            " 숫자 10까지의 합은 1임.\n",
            " 숫자 10까지의 합은 3임.\n",
            " 숫자 10까지의 합은 6임.\n",
            " 숫자 10까지의 합은 10임.\n",
            " 숫자 10까지의 합은 15임.\n",
            " 숫자 10까지의 합은 21임.\n",
            " 숫자 10까지의 합은 28임.\n",
            " 숫자 10까지의 합은 36임.\n",
            " 숫자 10까지의 합은 45임.\n",
            " 숫자 10까지의 합은 55임.\n"
          ]
        }
      ]
    },
    {
      "cell_type": "code",
      "source": [
        "#특정 조건까지 반복하기 (while 루프)\n",
        "count = 0\n",
        "n = int(input(\"숫자를 어디까지로 할 것인가?:\")) # Change print() to input() to get user input\n",
        "while count < n+1:\n",
        "  print(count)\n",
        "  count += 1\n",
        "print(\"종료\")"
      ],
      "metadata": {
        "colab": {
          "base_uri": "https://localhost:8080/"
        },
        "id": "COaw2ojbrbC0",
        "outputId": "22f57f13-f83e-4948-ebc1-4b2e50877caf"
      },
      "execution_count": 58,
      "outputs": [
        {
          "output_type": "stream",
          "name": "stdout",
          "text": [
            "숫자를 어디까지로 할 것인가?:3\n",
            "0\n",
            "1\n",
            "2\n",
            "3\n",
            "종료\n"
          ]
        }
      ]
    },
    {
      "cell_type": "code",
      "source": [
        "# 특정 조건까지 반복하기 (for 루프)\n",
        "n = int(input(\"숫자를 어디까지로 할 것인가?:\"))\n",
        "\n",
        "for count in range(0, n + 1):\n",
        "    print(count)\n",
        "\n",
        "print(\"종료\")"
      ],
      "metadata": {
        "colab": {
          "base_uri": "https://localhost:8080/"
        },
        "id": "GsT4S0Xor0fV",
        "outputId": "ee06d9c0-5a38-4b37-a136-05f1de0008d1"
      },
      "execution_count": 59,
      "outputs": [
        {
          "output_type": "stream",
          "name": "stdout",
          "text": [
            "숫자를 어디까지로 할 것인가?:5\n",
            "0\n",
            "1\n",
            "2\n",
            "3\n",
            "4\n",
            "5\n",
            "종료\n"
          ]
        }
      ]
    },
    {
      "cell_type": "code",
      "source": [],
      "metadata": {
        "id": "8UdPKUl2sGg1"
      },
      "execution_count": null,
      "outputs": []
    }
  ]
}