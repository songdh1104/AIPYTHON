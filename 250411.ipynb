{
  "nbformat": 4,
  "nbformat_minor": 0,
  "metadata": {
    "colab": {
      "provenance": [],
      "authorship_tag": "ABX9TyOKP51HN8uWJS12w4j2PWCz",
      "include_colab_link": true
    },
    "kernelspec": {
      "name": "python3",
      "display_name": "Python 3"
    },
    "language_info": {
      "name": "python"
    }
  },
  "cells": [
    {
      "cell_type": "markdown",
      "metadata": {
        "id": "view-in-github",
        "colab_type": "text"
      },
      "source": [
        "<a href=\"https://colab.research.google.com/github/songdh1104/AIPYTHON/blob/main/250411.ipynb\" target=\"_parent\"><img src=\"https://colab.research.google.com/assets/colab-badge.svg\" alt=\"Open In Colab\"/></a>"
      ]
    },
    {
      "cell_type": "code",
      "execution_count": 9,
      "metadata": {
        "colab": {
          "base_uri": "https://localhost:8080/"
        },
        "id": "U-qeawTJhMS_",
        "outputId": "9c61a4b4-3349-4922-80c9-6235e3a37a16"
      },
      "outputs": [
        {
          "output_type": "stream",
          "name": "stdout",
          "text": [
            "문자열:aba\n",
            "회문이 아닙니다.\n",
            "회문이 아닙니다.\n",
            "회문입니다.\n"
          ]
        }
      ],
      "source": [
        "#회문\n",
        "s1=input('문자열:')\n",
        "s2=''\n",
        "\n",
        "for i in range(len(s1)-1,-1,-1):\n",
        "  s2 = s2 +s1[i]\n",
        "\n",
        "  if s1==s2:\n",
        "    print('회문입니다.')\n",
        "  else:\n",
        "    print('회문이 아닙니다.')"
      ]
    },
    {
      "cell_type": "code",
      "source": [
        "#대소문자 변환\n",
        "lower_list =[]\n",
        "\n",
        "while True:\n",
        "  s = input('영어단어 또는 exit:')\n",
        "  if s == 'exit':\n",
        "    break\n",
        "    lower_list.append(s.lower())\n",
        "    for a in lower_list:\n",
        "      print(a)"
      ],
      "metadata": {
        "colab": {
          "base_uri": "https://localhost:8080/"
        },
        "id": "Hvx8N7Tokyn3",
        "outputId": "53da784c-193c-423e-fe23-00c3f09922fd"
      },
      "execution_count": 11,
      "outputs": [
        {
          "name": "stdout",
          "output_type": "stream",
          "text": [
            "영어단어 또는 exit:EXIT\n",
            "영어단어 또는 exit:exit\n"
          ]
        }
      ]
    },
    {
      "cell_type": "code",
      "source": [
        "s='kaist,제주대, 홍익대'\n",
        "print(s.split(','))"
      ],
      "metadata": {
        "colab": {
          "base_uri": "https://localhost:8080/"
        },
        "id": "Pv23ojdKoc4s",
        "outputId": "e59b3d44-4bd1-44c2-9391-28050557ae5f"
      },
      "execution_count": 12,
      "outputs": [
        {
          "output_type": "stream",
          "name": "stdout",
          "text": [
            "['kaist', '제주대', ' 홍익대']\n"
          ]
        }
      ]
    },
    {
      "cell_type": "code",
      "source": [
        "l=['KAIST','제주대']\n",
        "print(','.join(l))"
      ],
      "metadata": {
        "colab": {
          "base_uri": "https://localhost:8080/"
        },
        "id": "BzaVBGQ_ouuj",
        "outputId": "4134818a-55f6-4fb9-c5d7-f4d1a64fbc03"
      },
      "execution_count": 13,
      "outputs": [
        {
          "output_type": "stream",
          "name": "stdout",
          "text": [
            "KAIST,제주대\n"
          ]
        }
      ]
    },
    {
      "cell_type": "code",
      "source": [
        "#사용자로부터 비밀번호를 입력받을 것. 문자와 숫자가 섞여있으면 통괴. 아니면 다시.\n",
        "while True:\n",
        "  password = input(\"비밀번호를 입력하시오: \")\n",
        "  if password.isalnum() and not password.isalpha() and not password.isdigit():\n",
        "    print(\"통과\")\n",
        "    break\n",
        "  else:\n",
        "    print(\"다시 시도하세요. 비밀번호는 숫자와 문자가 섞여 있어야 합니다.\")"
      ],
      "metadata": {
        "colab": {
          "base_uri": "https://localhost:8080/"
        },
        "id": "Fpy5QEutqLAG",
        "outputId": "293aa836-3a6c-4a27-a762-d4e17546cd79"
      },
      "execution_count": 18,
      "outputs": [
        {
          "output_type": "stream",
          "name": "stdout",
          "text": [
            "비밀번호를 입력하시오: jimp652\n",
            "True\n"
          ]
        }
      ]
    }
  ]
}