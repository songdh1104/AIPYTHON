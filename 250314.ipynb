{
  "nbformat": 4,
  "nbformat_minor": 0,
  "metadata": {
    "colab": {
      "provenance": []
    },
    "kernelspec": {
      "name": "python3",
      "display_name": "Python 3"
    },
    "language_info": {
      "name": "python"
    }
  },
  "cells": [
    {
      "cell_type": "code",
      "execution_count": 7,
      "metadata": {
        "colab": {
          "base_uri": "https://localhost:8080/"
        },
        "id": "vaPP2shidQfi",
        "outputId": "e9b1b183-dab9-4ef9-c9ef-797a189bafaa"
      },
      "outputs": [
        {
          "output_type": "stream",
          "name": "stdout",
          "text": [
            "반지름의 길이는?\n",
            "5\n",
            "반지름이 5 인 원의 면적은 78.5398 입니다.\n"
          ]
        }
      ],
      "source": [
        "#반지름이 5인 원의 면적을 구하시오./ 원주율은 3.141592로 통일.\n",
        "print(\"반지름의 길이는?\")\n",
        "n = int(input())\n",
        "circle_area = 3.141592 * n**2\n",
        "print(\"반지름이\",n,\"인 원의 면적은\", circle_area, \"입니다.\")"
      ]
    },
    {
      "cell_type": "code",
      "source": [
        "#분(정수)을 시간과 분으로 변환하여 출력하시오.\n",
        "total_time = print(\"시간(분)을 입력하시오.\")\n",
        "time = int(input())\n",
        "hour = time // 60\n",
        "min = time % 60\n",
        "print(time,\"분은\",hour,\"시간\", min, \"분 입니다.\")"
      ],
      "metadata": {
        "colab": {
          "base_uri": "https://localhost:8080/"
        },
        "id": "HAHzCYJ3dcIS",
        "outputId": "3c93dc03-031c-47e6-aaaf-69b7c90f7e38"
      },
      "execution_count": 5,
      "outputs": [
        {
          "output_type": "stream",
          "name": "stdout",
          "text": [
            "시간(분)을 입력하시오.\n",
            "100\n",
            "100 분은 1 시간 40 분 입니다.\n"
          ]
        }
      ]
    },
    {
      "cell_type": "code",
      "source": [],
      "metadata": {
        "id": "zmxkz8JhfBzA"
      },
      "execution_count": null,
      "outputs": []
    }
  ]
}