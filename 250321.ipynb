{
  "nbformat": 4,
  "nbformat_minor": 0,
  "metadata": {
    "colab": {
      "provenance": []
    },
    "kernelspec": {
      "name": "python3",
      "display_name": "Python 3"
    },
    "language_info": {
      "name": "python"
    }
  },
  "cells": [
    {
      "cell_type": "code",
      "execution_count": null,
      "metadata": {
        "id": "M2eXcDOHjdyM",
        "colab": {
          "base_uri": "https://localhost:8080/"
        },
        "outputId": "ad6f7128-588f-469f-8bab-406a46469adf"
      },
      "outputs": [
        {
          "output_type": "stream",
          "name": "stdout",
          "text": [
            "A와 B의 입력을 공백으로 구분하여 입력하세요 (1: 가위, 2: 바위, 3: 보): 2\n",
            "잘못된 입력입니다. 숫자를 입력하세요.\n",
            "A와 B의 입력을 공백으로 구분하여 입력하세요 (1: 가위, 2: 바위, 3: 보): 1\n",
            "잘못된 입력입니다. 숫자를 입력하세요.\n",
            "A와 B의 입력을 공백으로 구분하여 입력하세요 (1: 가위, 2: 바위, 3: 보): 3\n",
            "잘못된 입력입니다. 숫자를 입력하세요.\n",
            "A와 B의 입력을 공백으로 구분하여 입력하세요 (1: 가위, 2: 바위, 3: 보): 1\n",
            "잘못된 입력입니다. 숫자를 입력하세요.\n",
            "A와 B의 입력을 공백으로 구분하여 입력하세요 (1: 가위, 2: 바위, 3: 보): 2\n",
            "잘못된 입력입니다. 숫자를 입력하세요.\n",
            "A와 B의 입력을 공백으로 구분하여 입력하세요 (1: 가위, 2: 바위, 3: 보): 1\n",
            "잘못된 입력입니다. 숫자를 입력하세요.\n",
            "A와 B의 입력을 공백으로 구분하여 입력하세요 (1: 가위, 2: 바위, 3: 보): 2\n",
            "잘못된 입력입니다. 숫자를 입력하세요.\n",
            "A와 B의 입력을 공백으로 구분하여 입력하세요 (1: 가위, 2: 바위, 3: 보): 1 3\n",
            "A승B패\n"
          ]
        }
      ],
      "source": [
        "while True:\n",
        "  try:\n",
        "    a, b = map(int, input(\"A와 B의 입력을 공백으로 구분하여 입력하세요 (1: 가위, 2: 바위, 3: 보): \").split())\n",
        "    if a in [1, 2, 3] and b in [1, 2, 3]:\n",
        "      break\n",
        "    else:\n",
        "      print(\"잘못된 입력입니다. 1, 2, 3 중에서 선택하세요.\")\n",
        "  except ValueError:\n",
        "    print(\"잘못된 입력입니다. 숫자를 입력하세요.\")\n",
        "\n",
        "if a == b:\n",
        "  print(\"무승부\")\n",
        "elif (a == 1 and b == 3) or (a == 2 and b == 1) or (a == 3 and b == 2):\n",
        "  print(\"A승B패\")\n",
        "else:\n",
        "  print(\"B승A패\")\n"
      ]
    },
    {
      "cell_type": "code",
      "source": [
        "#홀수짝수 구분\n",
        "\n",
        " number = int(input(\"숫자를 입력하세요: \"))\n",
        "\n",
        " if number % 2 == 0:\n",
        "    return \"짝수\"\n",
        "  else:\n",
        "    return \"홀수\""
      ],
      "metadata": {
        "colab": {
          "base_uri": "https://localhost:8080/",
          "height": 110
        },
        "id": "i4CbLTZDkWo7",
        "outputId": "43f19a9e-e840-423e-f253-e743947d0e70"
      },
      "execution_count": null,
      "outputs": [
        {
          "output_type": "error",
          "ename": "IndentationError",
          "evalue": "unindent does not match any outer indentation level (<tokenize>, line 7)",
          "traceback": [
            "\u001b[0;36m  File \u001b[0;32m\"<tokenize>\"\u001b[0;36m, line \u001b[0;32m7\u001b[0m\n\u001b[0;31m    else:\u001b[0m\n\u001b[0m    ^\u001b[0m\n\u001b[0;31mIndentationError\u001b[0m\u001b[0;31m:\u001b[0m unindent does not match any outer indentation level\n"
          ]
        }
      ]
    },
    {
      "cell_type": "code",
      "source": [
        "num=int(input('숫자를 입력'))\n",
        "if num==1 or num==2 or num==3:\n",
        "  print(true)\n",
        "\n",
        "else:\n",
        "  print(false)"
      ],
      "metadata": {
        "colab": {
          "base_uri": "https://localhost:8080/",
          "height": 202
        },
        "id": "OHJCYQYJkb66",
        "outputId": "73630052-2fc6-4cf9-ad96-0d76bd6a11e5"
      },
      "execution_count": null,
      "outputs": [
        {
          "name": "stdout",
          "output_type": "stream",
          "text": [
            "숫자를 입력6\n"
          ]
        },
        {
          "output_type": "error",
          "ename": "NameError",
          "evalue": "name 'false' is not defined",
          "traceback": [
            "\u001b[0;31m---------------------------------------------------------------------------\u001b[0m",
            "\u001b[0;31mNameError\u001b[0m                                 Traceback (most recent call last)",
            "\u001b[0;32m<ipython-input-5-f0de7ba8ed54>\u001b[0m in \u001b[0;36m<cell line: 0>\u001b[0;34m()\u001b[0m\n\u001b[1;32m      4\u001b[0m \u001b[0;34m\u001b[0m\u001b[0m\n\u001b[1;32m      5\u001b[0m \u001b[0;32melse\u001b[0m\u001b[0;34m:\u001b[0m\u001b[0;34m\u001b[0m\u001b[0;34m\u001b[0m\u001b[0m\n\u001b[0;32m----> 6\u001b[0;31m   \u001b[0mprint\u001b[0m\u001b[0;34m(\u001b[0m\u001b[0mfalse\u001b[0m\u001b[0;34m)\u001b[0m\u001b[0;34m\u001b[0m\u001b[0;34m\u001b[0m\u001b[0m\n\u001b[0m",
            "\u001b[0;31mNameError\u001b[0m: name 'false' is not defined"
          ]
        }
      ]
    },
    {
      "cell_type": "code",
      "source": [
        "a,b =map(int(input().split()))\n"
      ],
      "metadata": {
        "colab": {
          "base_uri": "https://localhost:8080/"
        },
        "id": "PKgtbw6LmI9z",
        "outputId": "c27ab496-5d38-40e1-d9e0-c2cec0db645e"
      },
      "execution_count": null,
      "outputs": [
        {
          "name": "stdout",
          "output_type": "stream",
          "text": [
            "1 5\n"
          ]
        }
      ]
    },
    {
      "cell_type": "code",
      "source": [],
      "metadata": {
        "id": "mj_Ye3Ycmihz"
      },
      "execution_count": null,
      "outputs": []
    }
  ]
}