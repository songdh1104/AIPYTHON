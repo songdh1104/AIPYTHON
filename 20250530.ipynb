{
  "nbformat": 4,
  "nbformat_minor": 0,
  "metadata": {
    "colab": {
      "provenance": [],
      "authorship_tag": "ABX9TyOIeH8hfCK4sTjNLbVuw6ls",
      "include_colab_link": true
    },
    "kernelspec": {
      "name": "python3",
      "display_name": "Python 3"
    },
    "language_info": {
      "name": "python"
    }
  },
  "cells": [
    {
      "cell_type": "markdown",
      "metadata": {
        "id": "view-in-github",
        "colab_type": "text"
      },
      "source": [
        "<a href=\"https://colab.research.google.com/github/songdh1104/AIPYTHON/blob/main/20250530.ipynb\" target=\"_parent\"><img src=\"https://colab.research.google.com/assets/colab-badge.svg\" alt=\"Open In Colab\"/></a>"
      ]
    },
    {
      "cell_type": "code",
      "execution_count": 1,
      "metadata": {
        "colab": {
          "base_uri": "https://localhost:8080/"
        },
        "id": "GeCev-UTv0Kk",
        "outputId": "1119fc96-bcbd-4845-c0db-7fdf2521cd69"
      },
      "outputs": [
        {
          "output_type": "stream",
          "name": "stdout",
          "text": [
            "훈련 데이터 개수: 120\n",
            "시험 데이터 개수: 30\n",
            "[5.1, 3.4, 1.5, 0.3] 데이터는 setosa 라는 꽃입니다.\n",
            "[5.1, 3.4, 1.5, 0.3] 데이터는 setosa라는 꽃입니다.\n"
          ]
        }
      ],
      "source": [
        "from sklearn.tree import DecisionTreeClassifier\n",
        "from sklearn.model_selection import train_test_split\n",
        "import seaborn as sns\n",
        "iris = sns.load_dataset(\"iris\")\n",
        "iris\n",
        "data = iris[['sepal_length', 'sepal_width', 'petal_length','petal_width']].to_numpy()\n",
        "target=iris['species'].to_numpy()\n",
        "train_input, test_input, train_target, test_target= train_test_split(data, target, test_size = 0.2)\n",
        "print(f\"훈련 데이터 개수: {len(train_input)}\")\n",
        "print(f\"시험 데이터 개수: {len(test_input)}\")\n",
        "dt = DecisionTreeClassifier()\n",
        "dt.fit(train_input, train_target)\n",
        "dt.score(test_input, test_target)\n",
        "my_data = [5.1, 3.4, 1.5, 0.3]\n",
        "pred = dt.predict([my_data])\n",
        "print(f\"{my_data} 데이터는 {pred[0]} 라는 꽃입니다.\")\n",
        "print(f\"{my_data} 데이터는 {pred[0]}라는 꽃입니다.\")"
      ]
    },
    {
      "cell_type": "code",
      "source": [
        "from sklearn.tree import DecisionTreeRegressor\n",
        "from sklearn.model_selection import train_test_split\n",
        "import seaborn as sns\n",
        "tips = sns.load_dataset('tips')\n",
        "tips\n",
        "data = tips[['total_bill', 'tip']].to_numpy()\n",
        "target=tips['size'].to_numpy()\n",
        "train_input, test_input, train_target, test_target= train_test_split(data, target, test_size = 0.2)\n",
        "dt = DecisionTreeRegressor()\n",
        "dt.fit(train_input, train_target)\n",
        "dt.score(test_input, test_target)"
      ],
      "metadata": {
        "colab": {
          "base_uri": "https://localhost:8080/"
        },
        "id": "cJjFHVahwWO2",
        "outputId": "98b370c2-75f3-44ca-f430-538d0639b101"
      },
      "execution_count": 2,
      "outputs": [
        {
          "output_type": "execute_result",
          "data": {
            "text/plain": [
              "-0.6436708860759497"
            ]
          },
          "metadata": {},
          "execution_count": 2
        }
      ]
    },
    {
      "cell_type": "code",
      "source": [
        "import sklearn\n",
        "from sklearn.datasets import load_iris # 붓꽃 데이터셋 로더\n",
        "from sklearn.model_selection import train_test_split # 데이터 분할 함수\n",
        "from sklearn.neighbors import KNeighborsClassifier # KNN 분류 모델\n",
        "from sklearn.metrics import accuracy_score # 정확도 평가 함수\n",
        "import pandas as pd # 데이터프레임 사용 (선택 사항)\n",
        "import numpy as np # 넘파이 사용 (선택 사항)\n",
        "\n",
        "# Scikit-learn 버전 확인 (선택 사항)\n",
        "print(f\"Scikit-learn 버전: {sklearn.__version__}\")"
      ],
      "metadata": {
        "colab": {
          "base_uri": "https://localhost:8080/"
        },
        "id": "nEwrSBBu2mHy",
        "outputId": "09784e54-ac7e-4b53-aa00-7620b7d1c030"
      },
      "execution_count": 3,
      "outputs": [
        {
          "output_type": "stream",
          "name": "stdout",
          "text": [
            "Scikit-learn 버전: 1.6.1\n"
          ]
        }
      ]
    },
    {
      "cell_type": "code",
      "source": [
        "# 붓꽃 데이터셋 로드\n",
        "iris = load_iris()\n",
        "\n",
        "# 데이터셋은 딕셔너리 형태와 유사한 Bunch 객체로 구성됨\n",
        "# print(iris) # 전체 데이터 구조 확인\n",
        "\n",
        "# 특성 데이터 (X)\n",
        "X = iris.data\n",
        "# print(\"특성 데이터 (처음 5개):\\n\", X[:5])\n",
        "# print(\"특성 데이터의 크기:\", X.shape) # (샘플 수, 특성 수)\n",
        "\n",
        "# 타겟 데이터 (y) - 품종 (0: Setosa, 1: Versicolor, 2: Virginica)\n",
        "y = iris.target\n",
        "# print(\"\\n타겟 데이터 (처음 5개):\\n\", y[:5])\n",
        "# print(\"타겟 데이터의 크기:\", y.shape) # (샘플 수,)\n",
        "\n",
        "# 특성 이름\n",
        "# print(\"\\n특성 이름:\", iris.feature_names)\n",
        "\n",
        "# 타겟 이름\n",
        "# print(\"\\n타겟 이름:\", iris.target_names)\n",
        "\n",
        "# 데이터를 DataFrame으로 만들어 확인 (선택 사항)\n",
        "df = pd.DataFrame(data=X, columns=iris.feature_names)\n",
        "df['target'] = y\n",
        "df['species'] = df['target'].map({0: 'setosa', 1: 'versicolor', 2: 'virginica'})\n",
        "print(\"\\n데이터 프레임 (처음 5개):\")\n",
        "print(df.head())"
      ],
      "metadata": {
        "colab": {
          "base_uri": "https://localhost:8080/"
        },
        "id": "tp8uhEV92mJa",
        "outputId": "f8a097db-4d5f-43c7-d8c5-ee60dd1d0ed3"
      },
      "execution_count": 4,
      "outputs": [
        {
          "output_type": "stream",
          "name": "stdout",
          "text": [
            "\n",
            "데이터 프레임 (처음 5개):\n",
            "   sepal length (cm)  sepal width (cm)  petal length (cm)  petal width (cm)  \\\n",
            "0                5.1               3.5                1.4               0.2   \n",
            "1                4.9               3.0                1.4               0.2   \n",
            "2                4.7               3.2                1.3               0.2   \n",
            "3                4.6               3.1                1.5               0.2   \n",
            "4                5.0               3.6                1.4               0.2   \n",
            "\n",
            "   target species  \n",
            "0       0  setosa  \n",
            "1       0  setosa  \n",
            "2       0  setosa  \n",
            "3       0  setosa  \n",
            "4       0  setosa  \n"
          ]
        }
      ]
    },
    {
      "cell_type": "code",
      "source": [
        "# 데이터를 학습용(train)과 테스트용(test)으로 분할\n",
        "# test_size=0.2: 전체 데이터 중 20%를 테스트 데이터로 사용\n",
        "# random_state: 재현성을 위해 난수 시드 고정 (같은 숫자를 쓰면 항상 같은 방식으로 분할됨)\n",
        "X_train, X_test, y_train, y_test = train_test_split(X, y, test_size=0.2, random_state=42)\n",
        "\n",
        "print(f\"\\n학습 데이터 크기: X_train {X_train.shape}, y_train {y_train.shape}\")\n",
        "print(f\"테스트 데이터 크기: X_test {X_test.shape}, y_test {y_test.shape}\")"
      ],
      "metadata": {
        "colab": {
          "base_uri": "https://localhost:8080/"
        },
        "id": "WxY1Xc_E2mMi",
        "outputId": "4ab75ccf-c6c3-4b6a-eb24-7f6a63985837"
      },
      "execution_count": 5,
      "outputs": [
        {
          "output_type": "stream",
          "name": "stdout",
          "text": [
            "\n",
            "학습 데이터 크기: X_train (120, 4), y_train (120,)\n",
            "테스트 데이터 크기: X_test (30, 4), y_test (30,)\n"
          ]
        }
      ]
    },
    {
      "cell_type": "code",
      "source": [
        "# KNN 분류기 모델 객체 생성\n",
        "# n_neighbors: 참고할 이웃의 수 (하이퍼파라미터)\n",
        "knn_model = KNeighborsClassifier(n_neighbors=3)\n",
        "\n",
        "# 학습 데이터를 사용하여 모델 학습\n",
        "# fit(특성 데이터, 타겟 데이터)\n",
        "knn_model.fit(X_train, y_train)\n",
        "\n",
        "print(\"\\nKNN 모델 학습 완료!\")"
      ],
      "metadata": {
        "colab": {
          "base_uri": "https://localhost:8080/"
        },
        "id": "ivry8jac2mO0",
        "outputId": "4f81174b-6ed4-4905-e9f3-42f4d89a7428"
      },
      "execution_count": 6,
      "outputs": [
        {
          "output_type": "stream",
          "name": "stdout",
          "text": [
            "\n",
            "KNN 모델 학습 완료!\n"
          ]
        }
      ]
    },
    {
      "cell_type": "code",
      "source": [
        "# 테스트 데이터로 예측 수행\n",
        "y_pred = knn_model.predict(X_test)\n",
        "\n",
        "print(\"\\n테스트 데이터에 대한 예측 결과 (처음 5개):\", y_pred[:5])\n",
        "print(\"실제 테스트 데이터의 타겟 값 (처음 5개):\", y_test[:5])"
      ],
      "metadata": {
        "colab": {
          "base_uri": "https://localhost:8080/"
        },
        "id": "6mHyWptK2mRE",
        "outputId": "67fc9cbc-e8fe-4cb5-884c-be457a2df26c"
      },
      "execution_count": 7,
      "outputs": [
        {
          "output_type": "stream",
          "name": "stdout",
          "text": [
            "\n",
            "테스트 데이터에 대한 예측 결과 (처음 5개): [1 0 2 1 1]\n",
            "실제 테스트 데이터의 타겟 값 (처음 5개): [1 0 2 1 1]\n"
          ]
        }
      ]
    },
    {
      "cell_type": "code",
      "source": [
        "# 정확도(accuracy) 계산\n",
        "accuracy = accuracy_score(y_test, y_pred)\n",
        "\n",
        "print(f\"\\n모델 정확도: {accuracy:.4f}\") # 소수점 4자리까지 표시\n",
        "\n",
        "# 몇 가지 예측 결과와 실제 값 비교\n",
        "print(\"\\n예측 vs 실제 (일부 샘플):\")\n",
        "for i in range(min(5, len(X_test))): # 최대 5개 또는 테스트 샘플 수만큼 출력\n",
        "    predicted_species = iris.target_names[y_pred[i]]\n",
        "    actual_species = iris.target_names[y_test[i]]\n",
        "    print(f\"  샘플 {i+1}: 예측 - {predicted_species}, 실제 - {actual_species}\")"
      ],
      "metadata": {
        "colab": {
          "base_uri": "https://localhost:8080/"
        },
        "id": "N72z-F5a2mTP",
        "outputId": "6d4d8b6d-8213-439c-8f5a-76d83e40d9c1"
      },
      "execution_count": 8,
      "outputs": [
        {
          "output_type": "stream",
          "name": "stdout",
          "text": [
            "\n",
            "모델 정확도: 1.0000\n",
            "\n",
            "예측 vs 실제 (일부 샘플):\n",
            "  샘플 1: 예측 - versicolor, 실제 - versicolor\n",
            "  샘플 2: 예측 - setosa, 실제 - setosa\n",
            "  샘플 3: 예측 - virginica, 실제 - virginica\n",
            "  샘플 4: 예측 - versicolor, 실제 - versicolor\n",
            "  샘플 5: 예측 - versicolor, 실제 - versicolor\n"
          ]
        }
      ]
    },
    {
      "cell_type": "code",
      "source": [
        "# 예시: 꽃받침 길이 5.0cm, 꽃받침 너비 3.5cm, 꽃잎 길이 1.5cm, 꽃잎 너비 0.2cm 인 붓꽃\n",
        "new_flower_data = np.array([[5.0, 3.5, 1.5, 0.2]]) # 2차원 배열 형태로 입력\n",
        "\n",
        "# 새로운 데이터 예측\n",
        "predicted_class = knn_model.predict(new_flower_data)\n",
        "predicted_species_name = iris.target_names[predicted_class[0]]\n",
        "\n",
        "print(f\"\\n새로운 붓꽃 데이터 {new_flower_data} 의 예측 품종: {predicted_species_name} (클래스: {predicted_class[0]})\")"
      ],
      "metadata": {
        "colab": {
          "base_uri": "https://localhost:8080/"
        },
        "id": "7Wh0BzXX2mVy",
        "outputId": "a9ccc74e-4788-4430-b613-e26f7a2302f8"
      },
      "execution_count": 9,
      "outputs": [
        {
          "output_type": "stream",
          "name": "stdout",
          "text": [
            "\n",
            "새로운 붓꽃 데이터 [[5.  3.5 1.5 0.2]] 의 예측 품종: setosa (클래스: 0)\n"
          ]
        }
      ]
    },
    {
      "cell_type": "code",
      "source": [],
      "metadata": {
        "id": "fpDWjanF2mYE"
      },
      "execution_count": null,
      "outputs": []
    },
    {
      "cell_type": "code",
      "source": [],
      "metadata": {
        "id": "S1pJDCoR2maP"
      },
      "execution_count": null,
      "outputs": []
    },
    {
      "cell_type": "code",
      "source": [],
      "metadata": {
        "id": "UHmEBetZ2mdv"
      },
      "execution_count": null,
      "outputs": []
    }
  ]
}