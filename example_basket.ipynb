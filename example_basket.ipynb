{
  "nbformat": 4,
  "nbformat_minor": 0,
  "metadata": {
    "colab": {
      "provenance": [],
      "authorship_tag": "ABX9TyP/LafquQ0rAIoL892o1S6E",
      "include_colab_link": true
    },
    "kernelspec": {
      "name": "python3",
      "display_name": "Python 3"
    },
    "language_info": {
      "name": "python"
    }
  },
  "cells": [
    {
      "cell_type": "markdown",
      "metadata": {
        "id": "view-in-github",
        "colab_type": "text"
      },
      "source": [
        "<a href=\"https://colab.research.google.com/github/songdh1104/AIPYTHON/blob/main/example_basket.ipynb\" target=\"_parent\"><img src=\"https://colab.research.google.com/assets/colab-badge.svg\" alt=\"Open In Colab\"/></a>"
      ]
    },
    {
      "cell_type": "code",
      "execution_count": null,
      "metadata": {
        "id": "yI1eIeKwndOw"
      },
      "outputs": [],
      "source": [
        "# 과일 이름을 담는 리스트 fruits를 생성하고, 최소 3가지 이상의 과일을 초기 값으로 할당합니다.\n",
        "# 리스트의 첫 번째 요소와 마지막 요소를 각각 인덱스를 사용하여 접근합니다.\n",
        "# 접근한 각 요소를 print() 함수를 사용하여 출력합니다\n",
        "\n",
        "#문제 1: 리스트 생성 및 요소 접근\n",
        "fruits = [\"apple\", \"banana\", \"cherry\"]\n",
        "print(f\"과일 리스트: {fruits}\")\n",
        "print(f\"첫 번째 과일: {fruits[0]}\")\n",
        "print(f\"마지막 과일: {fruits[-1]}\n",
        "\n"
      ]
    },
    {
      "cell_type": "code",
      "source": [
        "# 문제 1에서 생성한 fruit 리스트에서 새로운 과일 \"오렌지\"를 추가. 리스트의 끝에 추가해야하므로 append() 메서드를 사용\n",
        "# 추가된 후의 리스트를 출력\n",
        "# 리스트에서 \"바나나\"를 삭제. remove()메서드를 사용하여 특정 값을 삭제.\n",
        "# 삭제된 후의 리스트 출력\n",
        "\n",
        "#문제2: 리스트 요소 추가 및 삭제\n",
        "fruits.append(\"orange\")\n",
        "print(f\"과일 리스트 (추가): {fruits}\")\n",
        "fruits.remove(\"banana\")\n",
        "print(f\"과일 리스트 (삭제): {fruits}\")\n"
      ],
      "metadata": {
        "id": "mLoCA79IoRnz"
      },
      "execution_count": null,
      "outputs": []
    },
    {
      "cell_type": "code",
      "source": [
        "# 숫자를 담는 number를 생성, 몇 개의 숫자를 초기 값으로 할당.\n",
        "# for 루프를 사용하여 리스트의 각 요소를 순회\n",
        "# 각 요소를 print() 함수를 사용하여 한 줄씩 출력\n",
        "\n",
        "# 문제 3: 리스트 요소를 순회하며 출력\n",
        "numbers = [1, 5, 12, 8, 21]\n",
        "print(\"숫자 리스트 요소: \")\n",
        "for number in numbers:\n",
        "    print(number)"
      ],
      "metadata": {
        "id": "2__yzJLYpZOc"
      },
      "execution_count": null,
      "outputs": []
    },
    {
      "cell_type": "code",
      "source": [
        "# 문제4: 리스트 요소 값 변경\n",
        "\n",
        "colors = [\"red\", \"green\", \"blue\"]\n",
        "print(f\"색상 리스트: {colors}\")\n",
        "colors[1] = \"yellow\"\n",
        "print(f\"색상 리스트 (변경): {colors}\")"
      ],
      "metadata": {
        "id": "QzMnckcSp-AH"
      },
      "execution_count": null,
      "outputs": []
    },
    {
      "cell_type": "code",
      "source": [
        "# 문제 5: 두개의 리스트 합치기\n",
        "list1 = [1, 2, 3]\n",
        "list2 = [4, 5, 6]\n",
        "merged_list = list1 + list2\n",
        "print(f\"두 개의 리스트 합치기: {merged_list}\")"
      ],
      "metadata": {
        "id": "gTTmauutp-FT"
      },
      "execution_count": null,
      "outputs": []
    },
    {
      "cell_type": "code",
      "source": [
        "# 문제1: 딕셔너리 생성 및 요소 접근\n",
        "person = {\"name\": \"Alice\", \"age\": 30, \"city\": \"New York\"}\n",
        "print(f\"사람 딕셔너리: {person}\")"
      ],
      "metadata": {
        "id": "FzJCHJtWp-IC"
      },
      "execution_count": null,
      "outputs": []
    },
    {
      "cell_type": "code",
      "source": [
        "# 문제2: 딕셔너리 요소 추가 및 삭제\n",
        "person[\"occupation\"] = \"Engineer\"\n",
        "print(f\"사람 딕셔너리 (추가): {person}\")\n",
        "del person[\"age\"]\n",
        "print(f\"사람 딕셔너리 (삭제): {person}\")"
      ],
      "metadata": {
        "id": "VewQURTTp-KR"
      },
      "execution_count": null,
      "outputs": []
    },
    {
      "cell_type": "code",
      "source": [
        "#문제3: 딕셔너리 키와 값 순회하며 출력\n",
        "fruit_price = {\"apple\": 1.5, \"banana\": 0.9, \"orange\": 1.2}\n",
        "print(\"과일 가격 딕셔너리: \")\n",
        "for fruit, price in fruit_price.items():\n",
        "    print(f\"{fruit}: ${price}\")"
      ],
      "metadata": {
        "id": "PhybTsFtp-NC"
      },
      "execution_count": null,
      "outputs": []
    },
    {
      "cell_type": "code",
      "source": [
        "#문제4: 딕셔너리 요소 변경\n",
        "fruit_price[\"banana\"] = 0.8\n",
        "print(f\"과일 가격 딕셔너리 (변경): {fruit_price}\")"
      ],
      "metadata": {
        "id": "gx3Mp3X6p-Sz"
      },
      "execution_count": null,
      "outputs": []
    },
    {
      "cell_type": "code",
      "source": [
        "#문제 5: 두 개의 딕셔너리 합치기\n",
        "dict1 = {\"a\": 1, \"b\": 2}\n",
        "dict2 = {\"c\": 3, \"d\": 4}\n",
        "merged_dict = {**dict1, **dict2}"
      ],
      "metadata": {
        "id": "BMZZObXwp-Uz"
      },
      "execution_count": null,
      "outputs": []
    },
    {
      "cell_type": "code",
      "source": [
        "# 문제 3: 두 수 비교하기\n",
        "num1_str = input(\"첫 번째 정수를 입력하세요: \")\n",
        "num2_str = input(\"두 번째 정수를 입력하세요: \")\n",
        "num1 = int(num1_str)\n",
        "num2 = int(num2_str)\n",
        "try:\n",
        "  if num1 > num2:\n",
        "    print(f\"{num1}이(가) {num2}보다 큽니다.\")\n",
        "  elif num1 < num2:\n",
        "    print(f\"{num1}이(가) {num2}보다 작습니다.\")\n",
        "  else:\n",
        "    print(f\"{num1}과 {num}은 같습니다.\")\n",
        "except ValueError:\n",
        "  print(\"정수를 입력하세요.\")"
      ],
      "metadata": {
        "id": "YgP6Qk90p-Xl"
      },
      "execution_count": null,
      "outputs": []
    },
    {
      "cell_type": "code",
      "source": [
        "# 문제4: 세 수 중 가장 큰 수 찾기\n",
        "num1_str = int(input(\"첫 번째 정수를 입력하세요: \"))\n",
        "num2_str = int(input(\"두 번째 정수를 입력하세요: \"))\n",
        "num3_str = int(input(\"세 번째 정수를 입력하세요: \"))\n",
        "\n",
        "max_num = num1_str\n",
        "\n",
        "if num2_str > max_num:\n",
        "  max_num = num2_str\n",
        "\n",
        "if num3_str > max_num:\n",
        "  max_num = num3_str\n",
        "\n",
        "print(f\"가장 큰 수는 {max_num}입니다.\")\n",
        "\n",
        "except ValueError:\n",
        "  print(\"정수를 입력하세요.\")"
      ],
      "metadata": {
        "id": "XP9B6UpbsZfk"
      },
      "execution_count": null,
      "outputs": []
    },
    {
      "cell_type": "code",
      "source": [
        "#문제5: 학점 판별하기\n",
        "score = int(input(\"점수를 입력하세요: \"))\n",
        " try:\n",
        "  if 0<=score<=100:\n",
        "    if score >= 90:\n",
        "      grade = \"A\"\n",
        "    elif score >= 80:\n",
        "      grade = \"B\"\n",
        "    elif score >= 70:\n",
        "      grade = \"C\"\n",
        "    elif score >= 60:\n",
        "      grade = \"D\"\n",
        "    else:\n",
        "      grade = 'F'\n",
        "    print(f\"당신의 학점은 {grade}입니다.\")\n",
        "  else:\n",
        "    print(\"점수는 0점에서 100점 사이여야 합니다.\")\n",
        "except ValueError:\n",
        "  print(\"정수를 입력하세요.\")\n"
      ],
      "metadata": {
        "id": "8pm_9pRIsZia"
      },
      "execution_count": null,
      "outputs": []
    },
    {
      "cell_type": "code",
      "source": [
        "#문제6: 윤년 판별하기\n",
        "year = int(input(\"연도를 입력하세요: \"))\n",
        "try:\n",
        "  year = int(year)\n",
        "  if (year % 4 == 0 and year % 100 != 0) or (year % 400 == 0):\n",
        "    print(f\"{year}년은 윤년입니다.\")\n",
        "  else:\n",
        "    print(f\"{year}년은 윤년이 아닙니다.\")\n",
        "except ValueError:\n",
        "  print(\"정수를 입력하세요.\")"
      ],
      "metadata": {
        "id": "9a3UQuOAsZkT"
      },
      "execution_count": null,
      "outputs": []
    },
    {
      "cell_type": "code",
      "source": [
        "#문제 1: 문자열 연결 및 반복\n",
        "str1 = input(\"첫 번째 문자열을 입력하세요: \")\n",
        "str2 = input(\"두 번째 문자열을 입력하세요: \")\n",
        "\n",
        "#문자열 연결\n",
        "combined_str = str1 + str2\n",
        "\n",
        "#문자열 반복\n",
        "repeated_str = (str1 + \" \") * 3\n",
        "\n",
        "#결과 출력\n",
        "print(f\"문자열 연결: {combined_str}\")\n",
        "print(f\"문자열 반복: {repeated_str}\")"
      ],
      "metadata": {
        "id": "NUfJmfSescHP"
      },
      "execution_count": null,
      "outputs": []
    },
    {
      "cell_type": "code",
      "source": [
        "#문제2: 문자열 길이 및 인덱싱\n",
        "input_str = input(\"문자열을 입력하세요: \")\n",
        "\n",
        "#문자열 길이\n",
        "str_length = len(input_str)\n",
        "\n",
        "#인덱싱\n",
        "first_char = input_str[0]\n",
        "last_char = input_str[-1]\n",
        "\n",
        "# 결과 출력\n",
        "print(f\"문자열 길이: {str_length}\")\n",
        "print(f\"첫 번째 문자: {first_char}\")\n",
        "print(f\"마지막 문자: {last_char}\")"
      ],
      "metadata": {
        "id": "LTypBwPgw59w"
      },
      "execution_count": null,
      "outputs": []
    },
    {
      "cell_type": "code",
      "source": [
        "#문자열 슬라이싱\n",
        "input_str = input(\"문자열을 입력하세요: \")\n",
        "\n",
        "#슬라이싱\n",
        "substring = input_str[2:6]\n",
        "\n",
        "#결과 출력\n",
        "print(\"추출된 부분 문자열:\", input_str[2:6])"
      ],
      "metadata": {
        "id": "BxC0m1u-w6BA"
      },
      "execution_count": null,
      "outputs": []
    },
    {
      "cell_type": "code",
      "source": [
        "#문자열 반전\n",
        "input_str = input(\"문자열을 입력하세요: \")\n",
        "\n",
        "#문자열 반전\n",
        "reversed_str = \"\"\n",
        "for i in range(len(input_str) - 1, -1, -1):\n",
        "  reversed_str += input_str[i]\n",
        "\n",
        "#결과 출력\n",
        "print(\"문자열 반전:\", reversed_str)"
      ],
      "metadata": {
        "colab": {
          "base_uri": "https://localhost:8080/"
        },
        "id": "9FFgFitLw6Dg",
        "outputId": "7b34fd15-21c8-4b7b-ebbe-1316a8477870"
      },
      "execution_count": 3,
      "outputs": [
        {
          "output_type": "stream",
          "name": "stdout",
          "text": [
            "문자열을 입력하세요: qwertyui\n",
            "문자열 반전: iuytrewq\n"
          ]
        }
      ]
    },
    {
      "cell_type": "code",
      "source": [
        "#문제5: 문자열 검색\n",
        "input_str = input(\"문자열을 입력하세요: \")\n",
        "search_char = input(\"검색할 문자를 입력하세요: \")\n",
        "\n",
        "#문자열 검색\n",
        "index = input_str.find(search_char)\n",
        "\n",
        "#결과 출력\n",
        "if index != -1:\n",
        "  print(f\"'{search_char}'은(는) {index}번째 인덱스에 있습니다.\")\n",
        "else:\n",
        "  print(f\"'{search_char}'은(는) 문자열에 없습니다.\")"
      ],
      "metadata": {
        "id": "lXshYDlaw6GF"
      },
      "execution_count": null,
      "outputs": []
    },
    {
      "cell_type": "code",
      "source": [
        "#텍스트 분석기\n",
        "input_text = input(\"텍스트를 입력하세요: \")\n",
        "\n",
        "#문장 분리\n",
        "sentences = input_text.split(\".\")\n",
        "\n",
        "#결과 저장 리스트\n",
        "word_count_list = []\n",
        "\n",
        "#문장 분석\n",
        "for sentence in sentences:\n",
        "  #문장 다듬기\n",
        "  sentence = sentence.strip()\n",
        "\n",
        "  #빈 문자열일 경우 건너뛰기\n",
        "  if not sentence:\n",
        "    continue\n",
        "\n",
        "  #단어 수 세기\n",
        "  word_count = len(sentence.split())\n",
        "\n",
        "  #알파벳 빈도수 계산\n",
        "  alphabet_freq = {}\n",
        "  for char in sentence.lower():\n",
        "    if char.isalpha():\n",
        "      alphabet_freq[char] = alphabet_freq.get(char, 0) + 1\n",
        "\n",
        "  #결과 저장\n",
        "  word_count_list.append((sentence, word_count, alphabet_freq))\n",
        "  #결과 출력\n",
        "  print(f\"문장: {sentence}\")\n",
        "  print(f\"단어 수: {word_count}\")\n",
        "  print(\"알파벳 빈도수:\")\n",
        "  for char, freq in alphabet_freq.items():\n",
        "    print(f\"{char}: {freq}\")\n",
        "\n",
        "    #가장 긴 문장과 가장 짧은 문장 찾기\n",
        "longest_sentence = max(word_count_list, key=lambda x: x[1])[0]\n",
        "shortest_sentence = min(word_count_list, key=lambda x: x[1])[0]\n",
        "\n",
        "#결과 출력\n",
        "print(f\"가장 긴 문장: {longest_sentence}\")\n",
        "print(f\"가장 짧은 문장: {shortest_sentence}\")"
      ],
      "metadata": {
        "colab": {
          "base_uri": "https://localhost:8080/"
        },
        "id": "O8bWxcSzw6Ix",
        "outputId": "1c5d937e-557d-4cda-8e9c-8d729f656529"
      },
      "execution_count": 5,
      "outputs": [
        {
          "output_type": "stream",
          "name": "stdout",
          "text": [
            "텍스트를 입력하세요: qwertgyhjm.xcvgbhjikop.rfgvbnmjklop.e4rdyfugihojpk.xzsrdctvfygbuhnijmok.kopjilhcg\n",
            "문장: qwertgyhjm\n",
            "단어 수: 1\n",
            "알파벳 빈도수:\n",
            "q: 1\n",
            "w: 1\n",
            "e: 1\n",
            "r: 1\n",
            "t: 1\n",
            "g: 1\n",
            "y: 1\n",
            "h: 1\n",
            "j: 1\n",
            "m: 1\n",
            "문장: xcvgbhjikop\n",
            "단어 수: 1\n",
            "알파벳 빈도수:\n",
            "x: 1\n",
            "c: 1\n",
            "v: 1\n",
            "g: 1\n",
            "b: 1\n",
            "h: 1\n",
            "j: 1\n",
            "i: 1\n",
            "k: 1\n",
            "o: 1\n",
            "p: 1\n",
            "문장: rfgvbnmjklop\n",
            "단어 수: 1\n",
            "알파벳 빈도수:\n",
            "r: 1\n",
            "f: 1\n",
            "g: 1\n",
            "v: 1\n",
            "b: 1\n",
            "n: 1\n",
            "m: 1\n",
            "j: 1\n",
            "k: 1\n",
            "l: 1\n",
            "o: 1\n",
            "p: 1\n",
            "문장: e4rdyfugihojpk\n",
            "단어 수: 1\n",
            "알파벳 빈도수:\n",
            "e: 1\n",
            "r: 1\n",
            "d: 1\n",
            "y: 1\n",
            "f: 1\n",
            "u: 1\n",
            "g: 1\n",
            "i: 1\n",
            "h: 1\n",
            "o: 1\n",
            "j: 1\n",
            "p: 1\n",
            "k: 1\n",
            "문장: xzsrdctvfygbuhnijmok\n",
            "단어 수: 1\n",
            "알파벳 빈도수:\n",
            "x: 1\n",
            "z: 1\n",
            "s: 1\n",
            "r: 1\n",
            "d: 1\n",
            "c: 1\n",
            "t: 1\n",
            "v: 1\n",
            "f: 1\n",
            "y: 1\n",
            "g: 1\n",
            "b: 1\n",
            "u: 1\n",
            "h: 1\n",
            "n: 1\n",
            "i: 1\n",
            "j: 1\n",
            "m: 1\n",
            "o: 1\n",
            "k: 1\n",
            "문장: kopjilhcg\n",
            "단어 수: 1\n",
            "알파벳 빈도수:\n",
            "k: 1\n",
            "o: 1\n",
            "p: 1\n",
            "j: 1\n",
            "i: 1\n",
            "l: 1\n",
            "h: 1\n",
            "c: 1\n",
            "g: 1\n",
            "가장 긴 문장: qwertgyhjm\n",
            "가장 짧은 문장: qwertgyhjm\n"
          ]
        }
      ]
    },
    {
      "cell_type": "code",
      "source": [
        "#문제1: 1부터 n까지의 합 계산하기\n",
        "n = int(input(\"양의 정수 n을 입력하세요: \"))\n",
        "\n",
        "#합 계산\n",
        "sum_result = 0\n",
        "for i in range(1, n + 1):\n",
        "  sum_result += i\n",
        "\n",
        "#결과 출력\n",
        "print(f\"1부터 {n}까지의 합은 {sum_result}입니다.\")"
      ],
      "metadata": {
        "colab": {
          "base_uri": "https://localhost:8080/"
        },
        "id": "pG7Km2uOzJoi",
        "outputId": "6fd71593-1f63-4370-86a1-a348943adf34"
      },
      "execution_count": 7,
      "outputs": [
        {
          "output_type": "stream",
          "name": "stdout",
          "text": [
            "양의 정수 n을 입력하세요: 12\n",
            "1부터 12까지의 합은 78입니다.\n"
          ]
        }
      ]
    },
    {
      "cell_type": "code",
      "source": [
        "#문제1-1:  1부터 n까지의 합 계산하기. if문 사용\n",
        "n = int(input(\"양의 정수 n을 입력하세요: \"))\n",
        "try:\n",
        "  n=int(n)\n",
        "  if n <= 0:\n",
        "    print(\"양의 정수를 입력하세요.\")\n",
        "  else:\n",
        "    total = 0\n",
        "    for i in range(1, n + 1):\n",
        "        total += i\n",
        "    print(f\"1부터 {n}까지의 합은 {total}입니다.\")\n",
        "except ValueError:\n",
        "  print(\"정수를 입력하세요.\")"
      ],
      "metadata": {
        "colab": {
          "base_uri": "https://localhost:8080/"
        },
        "id": "w3fv51-00vdS",
        "outputId": "80199471-6b67-481e-85b9-38ba075be2c5"
      },
      "execution_count": 6,
      "outputs": [
        {
          "output_type": "stream",
          "name": "stdout",
          "text": [
            "양의 정수 n을 입력하세요: 12\n",
            "1부터 12까지의 짝수의 합은 78입니다.\n"
          ]
        }
      ]
    },
    {
      "cell_type": "code",
      "source": [
        "#구구단 출력하기\n",
        "dan_str = input(\"단을 입력하세요: \")\n",
        "try:\n",
        "  dan = int(dan_str)\n",
        "  if 1 <= dan <= 9:\n",
        "    print(f\"{dan}단:\")\n",
        "    for i in range(1, 10):\n",
        "      result = dan * i\n",
        "      print(f\"{dan} x {i} = {result}\")\n",
        "  else:\n",
        "    print(\"1~9 사이의 숫자를 입력하시오\")\n",
        "\n",
        "  except ValueError:\n",
        "    print(\"정수를 입력하세요.\")"
      ],
      "metadata": {
        "id": "ZKCznO0717Vk"
      },
      "execution_count": null,
      "outputs": []
    },
    {
      "cell_type": "code",
      "source": [
        "#리스트의 모든 요소 출력\n",
        "numbers = [10, 25, 49, 78, 32]\n",
        "print(\"리스트의 요쇠 \")\n",
        "for num in numbers:\n",
        "  print(num)"
      ],
      "metadata": {
        "id": "K0AWtPB517X_"
      },
      "execution_count": null,
      "outputs": []
    },
    {
      "cell_type": "code",
      "source": [
        "# 특정 조건까지 반복하기 (while 루프)\n",
        "count = 0\n",
        "print(\"0부터 9까지 출력\")\n",
        "while count <10:\n",
        "  print(count)\n",
        "  count += 1\n",
        "print(\"while 루프 종료\")"
      ],
      "metadata": {
        "id": "yRRSsxc92yHI"
      },
      "execution_count": null,
      "outputs": []
    },
    {
      "cell_type": "code",
      "source": [
        "# 문제5: 사용자로부터 exit이 입력될때 까지 반복\n",
        "while True:\n",
        "  user_input = input(\"문자열을 입력: \")\n",
        "  if user_input.lower() == 'exit':\n",
        "    print('프로그램을 종료')\n",
        "    break\n",
        "  else:\n",
        "    print(f'입력된 문자열: {user_input}')"
      ],
      "metadata": {
        "id": "8juoTBuh2yKA"
      },
      "execution_count": null,
      "outputs": []
    }
  ]
}